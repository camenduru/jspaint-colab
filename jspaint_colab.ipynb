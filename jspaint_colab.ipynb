{
 "cells": [
  {
   "cell_type": "code",
   "execution_count": null,
   "metadata": {},
   "outputs": [],
   "source": [
    "!apt update\n",
    "%mkdir -p /etc/apt/keyrings\n",
    "!curl -fsSL https://deb.nodesource.com/gpgkey/nodesource-repo.gpg.key | sudo gpg --dearmor -o /etc/apt/keyrings/nodesource.gpg\n",
    "!echo \"deb [signed-by=/etc/apt/keyrings/nodesource.gpg] https://deb.nodesource.com/node_18.x nodistro main\" | sudo tee /etc/apt/sources.list.d/nodesource.list\n",
    "!apt update\n",
    "!apt install nodejs -y\n",
    "!node -v\n",
    "\n",
    "%cd /content\n",
    "!git clone https://github.com/camenduru/jspaint\n",
    "%cd /content/jspaint\n",
    "!npm i\n",
    "\n",
    "import shlex\n",
    "import subprocess\n",
    "from pathlib import Path\n",
    "from typing import Union\n",
    "\n",
    "def gen_key(path: Union[str, Path]) -> None:\n",
    "    path = Path(path)\n",
    "    arg_string = f'ssh-keygen -t rsa -b 4096 -N \"\" -q -f {path.as_posix()}'\n",
    "    args = shlex.split(arg_string)\n",
    "    subprocess.run(args, check=True)\n",
    "    path.chmod(0o600)\n",
    "\n",
    "gen_key(\"/content/id_rsa\")\n",
    "\n",
    "import threading\n",
    "def tunnel():\n",
    "  !ssh -R 80:127.0.0.1:1999 -o StrictHostKeyChecking=no -i /content/id_rsa remote.moe\n",
    "threading.Thread(target=tunnel, daemon=True).start()\n",
    "\n",
    "!npm run dev"
   ]
  }
 ],
 "metadata": {
  "language_info": {
   "name": "python"
  }
 },
 "nbformat": 4,
 "nbformat_minor": 2
}
